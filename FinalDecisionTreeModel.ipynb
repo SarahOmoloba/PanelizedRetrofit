{
 "cells": [
  {
   "cell_type": "markdown",
   "id": "a02cf4bf-9c8f-406e-a9c4-20d00eb8a9c9",
   "metadata": {},
   "source": [
    "### Decision Tree Model for Classifying Buildings Manual Entry edition"
   ]
  },
  {
   "cell_type": "code",
   "execution_count": 1,
   "id": "3046f7e7-a32d-4ec5-b16b-bdb209672a18",
   "metadata": {},
   "outputs": [],
   "source": [
    "import pandas as pd\n",
    "import numpy as np\n",
    "import matplotlib.pyplot as plt\n",
    "%matplotlib inline\n",
    "pd.set_option('display.max_columns', 50)"
   ]
  },
  {
   "cell_type": "code",
   "execution_count": 2,
   "id": "1f7d24e8-d1cc-4f12-868f-27fbd833ffcb",
   "metadata": {},
   "outputs": [
    {
     "data": {
      "text/html": [
       "<div>\n",
       "<style scoped>\n",
       "    .dataframe tbody tr th:only-of-type {\n",
       "        vertical-align: middle;\n",
       "    }\n",
       "\n",
       "    .dataframe tbody tr th {\n",
       "        vertical-align: top;\n",
       "    }\n",
       "\n",
       "    .dataframe thead th {\n",
       "        text-align: right;\n",
       "    }\n",
       "</style>\n",
       "<table border=\"1\" class=\"dataframe\">\n",
       "  <thead>\n",
       "    <tr style=\"text-align: right;\">\n",
       "      <th></th>\n",
       "      <th>buildingID</th>\n",
       "      <th>latitude</th>\n",
       "      <th>longitude</th>\n",
       "      <th>postalCode</th>\n",
       "      <th>propertyAddress</th>\n",
       "      <th>isBuilding</th>\n",
       "      <th>buildingAge</th>\n",
       "      <th>builtBefore1990</th>\n",
       "      <th>buildingHeightLessThan4</th>\n",
       "      <th>ImageClassID</th>\n",
       "      <th>balconyAbsent</th>\n",
       "      <th>exteriorFinish</th>\n",
       "      <th>suitabilityForRetrofit</th>\n",
       "    </tr>\n",
       "  </thead>\n",
       "  <tbody>\n",
       "    <tr>\n",
       "      <th>0</th>\n",
       "      <td>1</td>\n",
       "      <td>-75.670072</td>\n",
       "      <td>45.402417</td>\n",
       "      <td>K1S1G5</td>\n",
       "      <td>1861 Rideau Garden Drive</td>\n",
       "      <td>0</td>\n",
       "      <td>0</td>\n",
       "      <td>0</td>\n",
       "      <td>0</td>\n",
       "      <td>0</td>\n",
       "      <td>0</td>\n",
       "      <td>0</td>\n",
       "      <td>Z</td>\n",
       "    </tr>\n",
       "    <tr>\n",
       "      <th>1</th>\n",
       "      <td>2</td>\n",
       "      <td>-75.700138</td>\n",
       "      <td>45.413555</td>\n",
       "      <td>K1R5J8</td>\n",
       "      <td>498 Somerset Street West</td>\n",
       "      <td>0</td>\n",
       "      <td>0</td>\n",
       "      <td>0</td>\n",
       "      <td>0</td>\n",
       "      <td>0</td>\n",
       "      <td>0</td>\n",
       "      <td>0</td>\n",
       "      <td>Z</td>\n",
       "    </tr>\n",
       "    <tr>\n",
       "      <th>2</th>\n",
       "      <td>3</td>\n",
       "      <td>-75.922406</td>\n",
       "      <td>45.263028</td>\n",
       "      <td>K2S1E4</td>\n",
       "      <td>6 Hampel Crescent</td>\n",
       "      <td>0</td>\n",
       "      <td>0</td>\n",
       "      <td>0</td>\n",
       "      <td>0</td>\n",
       "      <td>0</td>\n",
       "      <td>0</td>\n",
       "      <td>0</td>\n",
       "      <td>Z</td>\n",
       "    </tr>\n",
       "    <tr>\n",
       "      <th>3</th>\n",
       "      <td>4</td>\n",
       "      <td>-75.537676</td>\n",
       "      <td>45.461061</td>\n",
       "      <td>K1C7P7</td>\n",
       "      <td>528 Woodcliffe Private</td>\n",
       "      <td>1</td>\n",
       "      <td>30</td>\n",
       "      <td>0</td>\n",
       "      <td>0</td>\n",
       "      <td>31</td>\n",
       "      <td>1</td>\n",
       "      <td>0</td>\n",
       "      <td>D</td>\n",
       "    </tr>\n",
       "    <tr>\n",
       "      <th>4</th>\n",
       "      <td>5</td>\n",
       "      <td>-75.500092</td>\n",
       "      <td>45.470118</td>\n",
       "      <td>K1E1R8</td>\n",
       "      <td>337 Nagel Avenue</td>\n",
       "      <td>0</td>\n",
       "      <td>0</td>\n",
       "      <td>0</td>\n",
       "      <td>0</td>\n",
       "      <td>0</td>\n",
       "      <td>0</td>\n",
       "      <td>0</td>\n",
       "      <td>Z</td>\n",
       "    </tr>\n",
       "  </tbody>\n",
       "</table>\n",
       "</div>"
      ],
      "text/plain": [
       "   buildingID   latitude  longitude postalCode             propertyAddress  \\\n",
       "0           1 -75.670072  45.402417     K1S1G5   1861 Rideau Garden Drive    \n",
       "1           2 -75.700138  45.413555     K1R5J8  498 Somerset Street West     \n",
       "2           3 -75.922406  45.263028     K2S1E4         6 Hampel Crescent     \n",
       "3           4 -75.537676  45.461061     K1C7P7     528 Woodcliffe Private    \n",
       "4           5 -75.500092  45.470118     K1E1R8          337 Nagel Avenue     \n",
       "\n",
       "   isBuilding  buildingAge  builtBefore1990  buildingHeightLessThan4  \\\n",
       "0           0            0                0                        0   \n",
       "1           0            0                0                        0   \n",
       "2           0            0                0                        0   \n",
       "3           1           30                0                        0   \n",
       "4           0            0                0                        0   \n",
       "\n",
       "   ImageClassID  balconyAbsent  exteriorFinish suitabilityForRetrofit  \n",
       "0             0              0               0                      Z  \n",
       "1             0              0               0                      Z  \n",
       "2             0              0               0                      Z  \n",
       "3            31              1               0                      D  \n",
       "4             0              0               0                      Z  "
      ]
     },
     "execution_count": 2,
     "metadata": {},
     "output_type": "execute_result"
    }
   ],
   "source": [
    "# next load the data\n",
    "df = pd.read_csv('ModelFourTrainingDataset.csv')\n",
    "df.head()"
   ]
  },
  {
   "cell_type": "code",
   "execution_count": 3,
   "id": "66ce0de5-a88a-461f-84a8-29267f48425b",
   "metadata": {},
   "outputs": [
    {
     "name": "stdout",
     "output_type": "stream",
     "text": [
      "<class 'pandas.core.frame.DataFrame'>\n",
      "RangeIndex: 1250 entries, 0 to 1249\n",
      "Data columns (total 13 columns):\n",
      " #   Column                   Non-Null Count  Dtype  \n",
      "---  ------                   --------------  -----  \n",
      " 0   buildingID               1250 non-null   int64  \n",
      " 1   latitude                 1250 non-null   float64\n",
      " 2   longitude                1250 non-null   float64\n",
      " 3   postalCode               1250 non-null   object \n",
      " 4   propertyAddress          1250 non-null   object \n",
      " 5   isBuilding               1250 non-null   int64  \n",
      " 6   buildingAge              1250 non-null   int64  \n",
      " 7   builtBefore1990          1250 non-null   int64  \n",
      " 8   buildingHeightLessThan4  1250 non-null   int64  \n",
      " 9   ImageClassID             1250 non-null   int64  \n",
      " 10  balconyAbsent            1250 non-null   int64  \n",
      " 11  exteriorFinish           1250 non-null   int64  \n",
      " 12  suitabilityForRetrofit   1250 non-null   object \n",
      "dtypes: float64(2), int64(8), object(3)\n",
      "memory usage: 127.1+ KB\n"
     ]
    }
   ],
   "source": [
    "df.info()"
   ]
  },
  {
   "cell_type": "code",
   "execution_count": 4,
   "id": "ff7fd77e-29d4-4f04-a29a-bf74ba2b58ce",
   "metadata": {},
   "outputs": [
    {
     "data": {
      "text/html": [
       "<div>\n",
       "<style scoped>\n",
       "    .dataframe tbody tr th:only-of-type {\n",
       "        vertical-align: middle;\n",
       "    }\n",
       "\n",
       "    .dataframe tbody tr th {\n",
       "        vertical-align: top;\n",
       "    }\n",
       "\n",
       "    .dataframe thead th {\n",
       "        text-align: right;\n",
       "    }\n",
       "</style>\n",
       "<table border=\"1\" class=\"dataframe\">\n",
       "  <thead>\n",
       "    <tr style=\"text-align: right;\">\n",
       "      <th></th>\n",
       "      <th>buildingID</th>\n",
       "      <th>latitude</th>\n",
       "      <th>longitude</th>\n",
       "      <th>isBuilding</th>\n",
       "      <th>buildingAge</th>\n",
       "      <th>builtBefore1990</th>\n",
       "      <th>buildingHeightLessThan4</th>\n",
       "      <th>ImageClassID</th>\n",
       "      <th>balconyAbsent</th>\n",
       "      <th>exteriorFinish</th>\n",
       "    </tr>\n",
       "  </thead>\n",
       "  <tbody>\n",
       "    <tr>\n",
       "      <th>count</th>\n",
       "      <td>1250.000000</td>\n",
       "      <td>1250.000000</td>\n",
       "      <td>1250.000000</td>\n",
       "      <td>1250.000000</td>\n",
       "      <td>1250.000000</td>\n",
       "      <td>1250.000000</td>\n",
       "      <td>1250.000000</td>\n",
       "      <td>1250.000000</td>\n",
       "      <td>1250.000000</td>\n",
       "      <td>1250.000000</td>\n",
       "    </tr>\n",
       "    <tr>\n",
       "      <th>mean</th>\n",
       "      <td>625.500000</td>\n",
       "      <td>-75.699207</td>\n",
       "      <td>45.372977</td>\n",
       "      <td>0.913600</td>\n",
       "      <td>63.596000</td>\n",
       "      <td>0.628800</td>\n",
       "      <td>0.372800</td>\n",
       "      <td>15.131200</td>\n",
       "      <td>0.465600</td>\n",
       "      <td>0.450400</td>\n",
       "    </tr>\n",
       "    <tr>\n",
       "      <th>std</th>\n",
       "      <td>360.988227</td>\n",
       "      <td>0.120896</td>\n",
       "      <td>0.070614</td>\n",
       "      <td>0.281066</td>\n",
       "      <td>53.606482</td>\n",
       "      <td>0.483319</td>\n",
       "      <td>0.483743</td>\n",
       "      <td>10.007303</td>\n",
       "      <td>0.499015</td>\n",
       "      <td>0.497733</td>\n",
       "    </tr>\n",
       "    <tr>\n",
       "      <th>min</th>\n",
       "      <td>1.000000</td>\n",
       "      <td>-76.217516</td>\n",
       "      <td>44.989057</td>\n",
       "      <td>0.000000</td>\n",
       "      <td>0.000000</td>\n",
       "      <td>0.000000</td>\n",
       "      <td>0.000000</td>\n",
       "      <td>0.000000</td>\n",
       "      <td>0.000000</td>\n",
       "      <td>0.000000</td>\n",
       "    </tr>\n",
       "    <tr>\n",
       "      <th>25%</th>\n",
       "      <td>313.250000</td>\n",
       "      <td>-75.760148</td>\n",
       "      <td>45.326429</td>\n",
       "      <td>1.000000</td>\n",
       "      <td>14.000000</td>\n",
       "      <td>0.000000</td>\n",
       "      <td>0.000000</td>\n",
       "      <td>6.000000</td>\n",
       "      <td>0.000000</td>\n",
       "      <td>0.000000</td>\n",
       "    </tr>\n",
       "    <tr>\n",
       "      <th>50%</th>\n",
       "      <td>625.500000</td>\n",
       "      <td>-75.688469</td>\n",
       "      <td>45.378647</td>\n",
       "      <td>1.000000</td>\n",
       "      <td>48.000000</td>\n",
       "      <td>1.000000</td>\n",
       "      <td>0.000000</td>\n",
       "      <td>15.000000</td>\n",
       "      <td>0.000000</td>\n",
       "      <td>0.000000</td>\n",
       "    </tr>\n",
       "    <tr>\n",
       "      <th>75%</th>\n",
       "      <td>937.750000</td>\n",
       "      <td>-75.631395</td>\n",
       "      <td>45.430284</td>\n",
       "      <td>1.000000</td>\n",
       "      <td>110.000000</td>\n",
       "      <td>1.000000</td>\n",
       "      <td>1.000000</td>\n",
       "      <td>24.000000</td>\n",
       "      <td>1.000000</td>\n",
       "      <td>1.000000</td>\n",
       "    </tr>\n",
       "    <tr>\n",
       "      <th>max</th>\n",
       "      <td>1250.000000</td>\n",
       "      <td>-75.292995</td>\n",
       "      <td>45.517659</td>\n",
       "      <td>1.000000</td>\n",
       "      <td>176.000000</td>\n",
       "      <td>1.000000</td>\n",
       "      <td>1.000000</td>\n",
       "      <td>32.000000</td>\n",
       "      <td>1.000000</td>\n",
       "      <td>1.000000</td>\n",
       "    </tr>\n",
       "  </tbody>\n",
       "</table>\n",
       "</div>"
      ],
      "text/plain": [
       "        buildingID     latitude    longitude   isBuilding  buildingAge  \\\n",
       "count  1250.000000  1250.000000  1250.000000  1250.000000  1250.000000   \n",
       "mean    625.500000   -75.699207    45.372977     0.913600    63.596000   \n",
       "std     360.988227     0.120896     0.070614     0.281066    53.606482   \n",
       "min       1.000000   -76.217516    44.989057     0.000000     0.000000   \n",
       "25%     313.250000   -75.760148    45.326429     1.000000    14.000000   \n",
       "50%     625.500000   -75.688469    45.378647     1.000000    48.000000   \n",
       "75%     937.750000   -75.631395    45.430284     1.000000   110.000000   \n",
       "max    1250.000000   -75.292995    45.517659     1.000000   176.000000   \n",
       "\n",
       "       builtBefore1990  buildingHeightLessThan4  ImageClassID  balconyAbsent  \\\n",
       "count      1250.000000              1250.000000   1250.000000    1250.000000   \n",
       "mean          0.628800                 0.372800     15.131200       0.465600   \n",
       "std           0.483319                 0.483743     10.007303       0.499015   \n",
       "min           0.000000                 0.000000      0.000000       0.000000   \n",
       "25%           0.000000                 0.000000      6.000000       0.000000   \n",
       "50%           1.000000                 0.000000     15.000000       0.000000   \n",
       "75%           1.000000                 1.000000     24.000000       1.000000   \n",
       "max           1.000000                 1.000000     32.000000       1.000000   \n",
       "\n",
       "       exteriorFinish  \n",
       "count     1250.000000  \n",
       "mean         0.450400  \n",
       "std          0.497733  \n",
       "min          0.000000  \n",
       "25%          0.000000  \n",
       "50%          0.000000  \n",
       "75%          1.000000  \n",
       "max          1.000000  "
      ]
     },
     "execution_count": 4,
     "metadata": {},
     "output_type": "execute_result"
    }
   ],
   "source": [
    "df.describe()"
   ]
  },
  {
   "cell_type": "code",
   "execution_count": 5,
   "id": "23b82b6f-6b13-404b-8f0e-1a8a3fa4beb1",
   "metadata": {},
   "outputs": [
    {
     "data": {
      "text/plain": [
       "buildingID                 0\n",
       "latitude                   0\n",
       "longitude                  0\n",
       "postalCode                 0\n",
       "propertyAddress            0\n",
       "isBuilding                 0\n",
       "buildingAge                0\n",
       "builtBefore1990            0\n",
       "buildingHeightLessThan4    0\n",
       "ImageClassID               0\n",
       "balconyAbsent              0\n",
       "exteriorFinish             0\n",
       "suitabilityForRetrofit     0\n",
       "dtype: int64"
      ]
     },
     "execution_count": 5,
     "metadata": {},
     "output_type": "execute_result"
    }
   ],
   "source": [
    "# check for missing values in each variable\n",
    "df.isnull().sum()"
   ]
  },
  {
   "cell_type": "code",
   "execution_count": 6,
   "id": "ea6d09b0-741b-4360-b4f3-aaa23628d328",
   "metadata": {},
   "outputs": [
    {
     "data": {
      "text/plain": [
       "buildingID                   int64\n",
       "latitude                   float64\n",
       "longitude                  float64\n",
       "postalCode                  object\n",
       "propertyAddress             object\n",
       "isBuilding                   int64\n",
       "buildingAge                  int64\n",
       "builtBefore1990              int64\n",
       "buildingHeightLessThan4      int64\n",
       "ImageClassID                 int64\n",
       "balconyAbsent                int64\n",
       "exteriorFinish               int64\n",
       "suitabilityForRetrofit      object\n",
       "dtype: object"
      ]
     },
     "execution_count": 6,
     "metadata": {},
     "output_type": "execute_result"
    }
   ],
   "source": [
    "df.dtypes"
   ]
  },
  {
   "cell_type": "code",
   "execution_count": 7,
   "id": "14033ef0-00e4-4e04-a1bf-4ddb38c08410",
   "metadata": {},
   "outputs": [
    {
     "data": {
      "text/plain": [
       "(1250, 13)"
      ]
     },
     "execution_count": 7,
     "metadata": {},
     "output_type": "execute_result"
    }
   ],
   "source": [
    "# check the shape of the dataset\n",
    "df.shape"
   ]
  },
  {
   "cell_type": "code",
   "execution_count": 8,
   "id": "5d60885a-53bb-4c1a-88a8-9f2a2a20f8cf",
   "metadata": {},
   "outputs": [],
   "source": [
    "import seaborn as sns\n",
    "import warnings\n",
    "warnings.filterwarnings(\"ignore\")"
   ]
  },
  {
   "cell_type": "code",
   "execution_count": 9,
   "id": "bd341b76-61d2-43e1-954c-a7a8774a73e3",
   "metadata": {},
   "outputs": [
    {
     "data": {
      "text/plain": [
       "<AxesSubplot:ylabel='suitabilityForRetrofit'>"
      ]
     },
     "execution_count": 9,
     "metadata": {},
     "output_type": "execute_result"
    },
    {
     "data": {
      "image/png": "[encoded data removed]",
      "text/plain": [
       "<Figure size 640x480 with 1 Axes>"
      ]
     },
     "metadata": {},
     "output_type": "display_data"
    }
   ],
   "source": [
    "sns.scatterplot(df['suitabilityForRetrofit'])"
   ]
  },
  {
   "cell_type": "code",
   "execution_count": 10,
   "id": "8aa814f8-d0fb-4905-87f9-3467a978e706",
   "metadata": {},
   "outputs": [],
   "source": [
    "# drop all variables from the data that we won't need for the model.\n",
    "df = df.drop(['buildingID', 'latitude', 'longitude', 'postalCode', 'propertyAddress','ImageClassID'], axis = 1)"
   ]
  },
  {
   "cell_type": "code",
   "execution_count": 11,
   "id": "b92c6d0e-3d9e-4958-b8cc-e054334e04db",
   "metadata": {},
   "outputs": [
    {
     "data": {
      "text/plain": [
       "isBuilding                  int64\n",
       "buildingAge                 int64\n",
       "builtBefore1990             int64\n",
       "buildingHeightLessThan4     int64\n",
       "balconyAbsent               int64\n",
       "exteriorFinish              int64\n",
       "suitabilityForRetrofit     object\n",
       "dtype: object"
      ]
     },
     "execution_count": 11,
     "metadata": {},
     "output_type": "execute_result"
    }
   ],
   "source": [
    "df.dtypes"
   ]
  },
  {
   "cell_type": "code",
   "execution_count": 12,
   "id": "2ca6dcb6-e1a1-4db5-a8be-bc645f54afb9",
   "metadata": {},
   "outputs": [],
   "source": [
    "# seperate input features in x\n",
    "x = df.drop('suitabilityForRetrofit', axis = 1)\n",
    "\n",
    "# store the target variable in y\n",
    "y = df['suitabilityForRetrofit']"
   ]
  },
  {
   "cell_type": "code",
   "execution_count": 13,
   "id": "37a4afd5-7555-4c3b-9c8d-52ca3b0e13a7",
   "metadata": {},
   "outputs": [],
   "source": [
    "# import module\n",
    "from sklearn.model_selection import train_test_split\n",
    "\n",
    "# Split the dataset\n",
    "xtrain, xtest, ytrain, ytest = train_test_split(x,y, test_size=0.20, random_state=11)"
   ]
  },
  {
   "cell_type": "code",
   "execution_count": 14,
   "id": "b6411233-0886-4af5-8b47-eadcc1a8fccd",
   "metadata": {},
   "outputs": [
    {
     "data": {
      "text/plain": [
       "((1000, 6), (250, 6), (1000,), (250,))"
      ]
     },
     "execution_count": 14,
     "metadata": {},
     "output_type": "execute_result"
    }
   ],
   "source": [
    "# check the split using shape\n",
    "xtrain.shape, xtest.shape, ytrain.shape, ytest.shape"
   ]
  },
  {
   "cell_type": "code",
   "execution_count": 37,
   "id": "3d28edef-3548-4a8c-a5b3-5f81b1739aca",
   "metadata": {},
   "outputs": [],
   "source": [
    "# import Decision Tree model\n",
    "from sklearn.tree import DecisionTreeClassifier"
   ]
  },
  {
   "cell_type": "code",
   "execution_count": 16,
   "id": "33bbb42e-dedb-42e7-b4d6-a7b7cefde80f",
   "metadata": {},
   "outputs": [
    {
     "data": {
      "text/plain": [
       "{'ccp_alpha': 0.0,\n",
       " 'class_weight': None,\n",
       " 'criterion': 'gini',\n",
       " 'max_depth': None,\n",
       " 'max_features': None,\n",
       " 'max_leaf_nodes': None,\n",
       " 'min_impurity_decrease': 0.0,\n",
       " 'min_samples_leaf': 1,\n",
       " 'min_samples_split': 2,\n",
       " 'min_weight_fraction_leaf': 0.0,\n",
       " 'random_state': None,\n",
       " 'splitter': 'best'}"
      ]
     },
     "execution_count": 16,
     "metadata": {},
     "output_type": "execute_result"
    }
   ],
   "source": [
    "# Let's list the tunable hyperparameters for Decision Tree algorithm\n",
    "DecisionTreeClassifier().get_params()"
   ]
  },
  {
   "cell_type": "code",
   "execution_count": 17,
   "id": "d2a04ea6-8c05-4e77-9683-a236f67b1712",
   "metadata": {},
   "outputs": [],
   "source": [
    "# create an instane of the model\n",
    "dt = DecisionTreeClassifier(max_depth = 5, max_features=6)"
   ]
  },
  {
   "cell_type": "code",
   "execution_count": 18,
   "id": "044fe667-8c4e-47b3-b679-06b406478b72",
   "metadata": {},
   "outputs": [],
   "source": [
    "# train the model\n",
    "dtmodel = dt.fit(xtrain,ytrain)"
   ]
  },
  {
   "cell_type": "code",
   "execution_count": 19,
   "id": "032579f2-f590-4061-9bad-f935b2ae5269",
   "metadata": {},
   "outputs": [],
   "source": [
    "# Predict on x_test\n",
    "y_pred = dt.predict(xtest)"
   ]
  },
  {
   "cell_type": "code",
   "execution_count": 20,
   "id": "5e877bb5-c437-4355-99bf-7ec0f7ea1436",
   "metadata": {},
   "outputs": [],
   "source": [
    "from sklearn.metrics import confusion_matrix"
   ]
  },
  {
   "cell_type": "code",
   "execution_count": 21,
   "id": "80bc121b-1a08-4b53-9fca-9b48b78bf9c0",
   "metadata": {},
   "outputs": [
    {
     "name": "stdout",
     "output_type": "stream",
     "text": [
      "Accuracy of Random Forest model on the train set: 1.00\n",
      "Accuracy of Random Forest model on the test set: 1.00\n"
     ]
    }
   ],
   "source": [
    "# Evaluate the Model\n",
    "print('Accuracy of Random Forest model on the train set: {:.2f}'.format(dt.score(xtrain, ytrain)))\n",
    "print('Accuracy of Random Forest model on the test set: {:.2f}'.format(dt.score(xtest, ytest)))\n",
    "cm = confusion_matrix(ytest, y_pred)"
   ]
  },
  {
   "cell_type": "code",
   "execution_count": 22,
   "id": "d1c6fc05-6ecc-4507-83c3-d450d0499ea7",
   "metadata": {},
   "outputs": [
    {
     "data": {
      "text/plain": [
       "array([[12,  0,  0,  0,  0,  0],\n",
       "       [ 0, 67,  0,  0,  0,  0],\n",
       "       [ 0,  0, 93,  0,  0,  0],\n",
       "       [ 0,  0,  0, 48,  0,  0],\n",
       "       [ 0,  0,  0,  0,  8,  0],\n",
       "       [ 0,  0,  0,  0,  0, 22]], dtype=int64)"
      ]
     },
     "execution_count": 22,
     "metadata": {},
     "output_type": "execute_result"
    }
   ],
   "source": [
    "cm"
   ]
  },
  {
   "cell_type": "code",
   "execution_count": 23,
   "id": "4c1fe203-3f4b-4b30-84d1-67d201efb3a6",
   "metadata": {},
   "outputs": [
    {
     "data": {
      "text/plain": [
       "array(['isBuilding', 'buildingAge', 'builtBefore1990',\n",
       "       'buildingHeightLessThan4', 'balconyAbsent', 'exteriorFinish'],\n",
       "      dtype=object)"
      ]
     },
     "execution_count": 23,
     "metadata": {},
     "output_type": "execute_result"
    }
   ],
   "source": [
    "dt.feature_names_in_"
   ]
  },
  {
   "cell_type": "code",
   "execution_count": 24,
   "id": "dad9663e-b6e0-47d5-a80d-aa3c7b562771",
   "metadata": {},
   "outputs": [
    {
     "data": {
      "text/plain": [
       "array([0.13167492, 0.46356797, 0.05482514, 0.19871891, 0.06491802,\n",
       "       0.08629506])"
      ]
     },
     "execution_count": 24,
     "metadata": {},
     "output_type": "execute_result"
    }
   ],
   "source": [
    "dt.feature_importances_"
   ]
  },
  {
   "cell_type": "code",
   "execution_count": 25,
   "id": "8b867ec8-ce11-45f0-ad0f-bc2d4c2e73e7",
   "metadata": {},
   "outputs": [],
   "source": [
    "#y_pred"
   ]
  },
  {
   "cell_type": "code",
   "execution_count": 26,
   "id": "c447afc6-5c30-49b1-9fbb-7d2ac8bc84d2",
   "metadata": {},
   "outputs": [
    {
     "data": {
      "text/plain": [
       "\"plt.figure(figsize=(8,8))\\nsns.heatmap(cm, annot = True, xticklabels='auto', yticklabels='auto')\\n\\n# display the plot\\nplt.xlabel('Predicted Label')\\nplt.ylabel('Actual Label')\\nplt.title('Confusion Matrix')\\nplt.show()\""
      ]
     },
     "execution_count": 26,
     "metadata": {},
     "output_type": "execute_result"
    }
   ],
   "source": [
    "\"\"\"plt.figure(figsize=(8,8))\n",
    "sns.heatmap(cm, annot = True, xticklabels='auto', yticklabels='auto')\n",
    "\n",
    "# display the plot\n",
    "plt.xlabel('Predicted Label')\n",
    "plt.ylabel('Actual Label')\n",
    "plt.title('Confusion Matrix')\n",
    "plt.show()\"\"\""
   ]
  },
  {
   "cell_type": "code",
   "execution_count": 27,
   "id": "a79dfb92-b289-4069-9772-18b86620099e",
   "metadata": {},
   "outputs": [
    {
     "data": {
      "image/png": "[encoded data removed]",
      "text/plain": [
       "<Figure size 800x800 with 2 Axes>"
      ]
     },
     "metadata": {},
     "output_type": "display_data"
    }
   ],
   "source": [
    "plt.figure(figsize=(8,8))\n",
    "dtplot=sns.heatmap(cm, annot = True, xticklabels='auto', yticklabels='auto')\n",
    "\n",
    "# display the plot\n",
    "dtplot.set_xlabel('Predicted Label')\n",
    "dtplot.xaxis.set_ticklabels(['A','B','C','D','E','Z'])\n",
    "\n",
    "dtplot.set_ylabel('Actual Label')\n",
    "dtplot.yaxis.set_ticklabels(['A','B','C','D','E','Z'])\n",
    "\n",
    "dtplot.set_title('Confusion Matrix')\n",
    "plt.show()"
   ]
  },
  {
   "cell_type": "code",
   "execution_count": 28,
   "id": "c8f8728f-f6f5-415f-bf8c-531503ce63f4",
   "metadata": {},
   "outputs": [],
   "source": [
    "#Save the model\n",
    "import pickle"
   ]
  },
  {
   "cell_type": "code",
   "execution_count": 35,
   "id": "99649c8e-5b79-48c3-a5c1-6d9c572f41c8",
   "metadata": {},
   "outputs": [],
   "source": [
    "pickle.dump(dt,open('DECISIONTREE_MODEL_MANUAL','wb'))"
   ]
  },
  {
   "cell_type": "code",
   "execution_count": 36,
   "id": "25580b9a-ccb5-4470-9a09-29979d21fa61",
   "metadata": {},
   "outputs": [],
   "source": [
    "#load the model\n",
    "model4_manual = pickle.load(open('DECISIONTREE_MODEL_MANUAL','rb'))"
   ]
  },
  {
   "cell_type": "code",
   "execution_count": 31,
   "id": "1823392d-b70b-42f8-8e97-b1ea3d56e379",
   "metadata": {},
   "outputs": [
    {
     "data": {
      "text/plain": [
       "array(['C'], dtype=object)"
      ]
     },
     "execution_count": 31,
     "metadata": {},
     "output_type": "execute_result"
    }
   ],
   "source": [
    "# Make predictions using the model\n",
    "model4_manual.predict([[1,34,1,1,0,0]])"
   ]
  },
  {
   "cell_type": "code",
   "execution_count": 32,
   "id": "0556db55-92d2-4b82-87b6-39fcf22cac81",
   "metadata": {},
   "outputs": [
    {
     "data": {
      "text/plain": [
       "array(['B'], dtype=object)"
      ]
     },
     "execution_count": 32,
     "metadata": {},
     "output_type": "execute_result"
    }
   ],
   "source": [
    "# Make predictions using the model\n",
    "model4_manual.predict([[1,20,0,1,1,1]])"
   ]
  },
  {
   "cell_type": "code",
   "execution_count": 33,
   "id": "72f63d38-4a1e-4455-9077-0a10cdc7282e",
   "metadata": {},
   "outputs": [
    {
     "data": {
      "text/plain": [
       "array(['Z'], dtype=object)"
      ]
     },
     "execution_count": 33,
     "metadata": {},
     "output_type": "execute_result"
    }
   ],
   "source": [
    "# Make predictions using the model\n",
    "model4_manual.predict([[0,0,0,0,0,0]])"
   ]
  },
  {
   "cell_type": "code",
   "execution_count": 34,
   "id": "828fbd3a-d5cc-4da2-b8a7-ebc461d4644d",
   "metadata": {},
   "outputs": [
    {
     "data": {
      "text/plain": [
       "array(['B'], dtype=object)"
      ]
     },
     "execution_count": 34,
     "metadata": {},
     "output_type": "execute_result"
    }
   ],
   "source": [
    "# Make predictions using the model\n",
    "model4_manual.predict([[1,40,1,0,1,1]])"
   ]
  },
  {
   "cell_type": "raw",
   "id": "7a3bc496-e603-465b-9411-8be2403f270e",
   "metadata": {},
   "source": [
    "*isBuilding                  int64\n",
    "*buildingAge                 int64\n",
    "*builtBefore1990             int64\n",
    "*buildingHeightLessThan4     int64\n",
    "*ImageClassID                int64\n",
    "*balconyAbsent               int64\n",
    "*exteriorFinish              int64\n",
    "*suitabilityForRetrofit     object"
   ]
  },
  {
   "cell_type": "code",
   "execution_count": null,
   "id": "71b39fd0-9e3c-4d24-804c-c1335b8993b7",
   "metadata": {},
   "outputs": [],
   "source": []
  }
 ],
 "metadata": {
  "kernelspec": {
   "display_name": "Python 3 (ipykernel)",
   "language": "python",
   "name": "python3"
  },
  "language_info": {
   "codemirror_mode": {
    "name": "ipython",
    "version": 3
   },
   "file_extension": ".py",
   "mimetype": "text/x-python",
   "name": "python",
   "nbconvert_exporter": "python",
   "pygments_lexer": "ipython3",
   "version": "3.9.13"
  }
 },
 "nbformat": 4,
 "nbformat_minor": 5
}
