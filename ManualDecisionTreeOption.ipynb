{
 "cells": [
  {
   "cell_type": "code",
   "execution_count": null,
   "id": "d28e1458-92b7-4bd3-8b23-0d0737d744a1",
   "metadata": {},
   "outputs": [],
   "source": [
    "#include all imported libraries here\n",
    "Car Luxury car Real Estate Family car Property Suburb House Neighbourhood Cottage M  Siding"
   ]
  },
  {
   "cell_type": "code",
   "execution_count": 1,
   "id": "b0de111c-fab2-4982-8f0e-4405fab6bebe",
   "metadata": {},
   "outputs": [
    {
     "name": "stdin",
     "output_type": "stream",
     "text": [
      "Please enter the address from the image search bar:  698 Alesther St\n"
     ]
    },
    {
     "name": "stdout",
     "output_type": "stream",
     "text": [
      "The building information is:  698 Alesther St ,  K1K1H9 , Old Ottawa , Ward [13] and Minimum lotsize of  [1000.]\n"
     ]
    }
   ],
   "source": [
    "import pandas as pd\n",
    "import numpy as np\n",
    "\n",
    "dfOverbrook = pd.read_csv('extractedOverbrook.csv')\n",
    "#df.head()\n",
    "\n",
    "#enter the address\n",
    "address_input = input(\"Please enter the address from the image search bar: \")\n",
    "#address       = address_input.lower()\n",
    "\n",
    "#address_to_match = dfOverbrook.loc[dfOverbrook['FULL_ADDRESS_EN']]\n",
    "#address_match    = address_to_match.lower()\n",
    "\n",
    "#use 698 Alesther St and 700 Alesther St\n",
    "     \n",
    "match = dfOverbrook.loc[dfOverbrook['FULL_ADDRESS_EN']== address_input]    \n",
    "if not match.empty:\n",
    "    print('The building information is: ', match.FULL_ADDRESS_EN.to_string(index=False, header=False),', ', match.POSTAL_CODE.to_string(index=False, header=False), ',', match.MUNICIPALITY.to_string(index=False, header=False), ', Ward',  match.WARD.values, 'and Minimum lotsize of ',  match.MINLOSIZELEFT.values)\n",
    "else:\n",
    "    print('No matches found.')\n"
   ]
  },
  {
   "cell_type": "code",
   "execution_count": 2,
   "id": "54dd69e6-0912-4ded-aeec-1f1bff9ad198",
   "metadata": {},
   "outputs": [
    {
     "name": "stdin",
     "output_type": "stream",
     "text": [
      "The descriptions are:  Car Luxury car Real Estate Family car Property Suburb House Neighbourhood Cottage M  Siding\n"
     ]
    },
    {
     "name": "stdout",
     "output_type": "stream",
     "text": [
      "['car', 'luxury', 'car', 'real', 'estate', 'family', 'car', 'property', 'suburb', 'house', 'neighbourhood', 'cottage', 'm', 'siding']\n",
      "The image returned contains a building\n"
     ]
    },
    {
     "name": "stdin",
     "output_type": "stream",
     "text": [
      "Is there a balcony? enter y for yes and n for no: n\n"
     ]
    },
    {
     "name": "stdout",
     "output_type": "stream",
     "text": [
      "['wood', 'stucco', 'metal', 'vinyl', 'glass', 'brick', 'stone', 'other']\n"
     ]
    },
    {
     "name": "stdin",
     "output_type": "stream",
     "text": [
      "Please enter the exterior finish of the building from the dispalyed list: brick\n",
      "Enter y for yes and n for no if the building age and or year built is known y\n",
      "Please enter the year built:  1982\n"
     ]
    },
    {
     "name": "stdout",
     "output_type": "stream",
     "text": [
      "Ur here!\n"
     ]
    },
    {
     "name": "stdin",
     "output_type": "stream",
     "text": [
      "Is the building less than four (4) stories? y for yes and n for no:  y\n"
     ]
    },
    {
     "name": "stdout",
     "output_type": "stream",
     "text": [
      "[1, 41, 1, 1, 1, 0]\n"
     ]
    }
   ],
   "source": [
    "#declare all variables\n",
    "\n",
    "isbuilding                     = 0\n",
    "balcony_absent                 = 0\n",
    "exterior_finish                = 0\n",
    "building_age                   = 0\n",
    "built_before_1990              = 0\n",
    "building_height_less_than_four = 0\n",
    "\n",
    "#subject to change\n",
    "web_entities_front = input(\"The descriptions are: \")\n",
    "lowercase_entities = web_entities_front.lower()\n",
    "lowercase_entities = web_entities_front.lower()\n",
    "\n",
    "#list of specific words that relate \n",
    "specific_words = [\"building\", \"home\", \"house\", \"residence\", \\\n",
    "                  \"dwelling\", \"domicile\", \"lodge\", \"manor\", \\\n",
    "                  \"villa\", \"bungalow\", \"cottage\", \"homestead\", \\\n",
    "                  \"farmhouse\", \"cabin\", \"apartment\"]\n",
    "\n",
    "#to train the model\n",
    "import nltk\n",
    "\n",
    "entities_token = nltk.word_tokenize(lowercase_entities)\n",
    "#nltk.download('omw-1.4')\n",
    "#nltk.download('wordnet')\n",
    "from nltk.stem import WordNetLemmatizer\n",
    "\n",
    "lemmatizer = WordNetLemmatizer()\n",
    "lemmatized_tokens = [lemmatizer.lemmatize(token) for token in entities_token]\n",
    "print(lemmatized_tokens)\n",
    "\n",
    "#check if the image returned is a building\n",
    "match_found =False\n",
    "#loop through each specific word and check if it's in the returned word set\n",
    "for word1 in lemmatized_tokens:\n",
    "    for word2 in specific_words:\n",
    "        if word1 == word2:\n",
    "            isbuilding = 1\n",
    "            print(\"The image returned contains a building\")\n",
    "            match_found =True\n",
    "            break\n",
    "            \n",
    "    if match_found:\n",
    "        break    \n",
    "else:\n",
    "    print(\"Not a building!\")\n",
    "#if it is a building then do the following \n",
    "if isbuilding == 1:\n",
    "    #check if balcony is absent   \n",
    "    balcony_input = input(\"Is there a balcony? enter y for yes and n for no:\")\n",
    "    if balcony_input == \"y\":\n",
    "        balcony_absent = 0\n",
    "    if balcony_input == \"n\": \n",
    "        balcony_absent = 1\n",
    "    else:\n",
    "        print(\"Please enter y or n\")\n",
    "        balcony_input = input(\"Is there a balcony? enter y for yes and n for no:\")    \n",
    "    \n",
    "    #checking the exterior finish of the building\n",
    "    exterior_type       = [\"wood\",\"stucco\",\"metal\",\"vinyl\",\"glass\",\"brick\",\"stone\", \"other\"]\n",
    "    print(exterior_type)\n",
    "    exterior_type_input = input(\"Please enter the exterior finish of the building from the dispalyed list:\")\n",
    "    type_input          = exterior_type_input.lower()\n",
    "\n",
    "    #checking if the exterior type meets the requirement\n",
    "    if type_input in (\"wood\",\"stucco\",\"stone\", \"vinyl\"):\n",
    "        exterior_finish = 1\n",
    "    if type_input in (\"metal\",\"glass\",\"brick\", \"other\"):\n",
    "        exterior_finish = 0    \n",
    "    else:\n",
    "        print(\"Please make sure to check your input\")  \n",
    "    #checking the age of the building\n",
    "    \n",
    "    from datetime import datetime\n",
    "    #get current year\n",
    "    current_year = datetime.now().year\n",
    "\n",
    "    age_known_input   = input(\"Enter y for yes and n for no if the building age and or year built is known\") \n",
    "    age_known         = age_known_input.lower()\n",
    "\n",
    "    if age_known == \"y\":\n",
    "        year_built_input = int(input(\"Please enter the year built: \"))\n",
    "        building_age = current_year - year_built_input\n",
    "        if year_built_input <= 1990:\n",
    "            built_before_1990 = 1\n",
    "        else:\n",
    "            built_before_1990 = 0\n",
    "    else : \n",
    "        building_age      = 0\n",
    "        built_before_1990 = 0\n",
    "        print('The result might not be as accurate since the Year built is not known.')\n",
    "\n",
    "    #check if the building is more less than four stories\n",
    "    absolute_zones  = ('R1','R2','R3')\n",
    "    column_to_check = dfOverbrook['RESIDENTIAL_ZONING']\n",
    "    bool_column     = column_to_check == 'R4'\n",
    "    if column_to_check.isin(absolute_zones).any():\n",
    "        building_height_less_than_four = 1\n",
    "    if bool_column.any():\n",
    "        print(\"Ur here!\")\n",
    "        building_height_input = input(\"Is the building less than four (4) stories? y for yes and n for no: \")\n",
    "        building_height       = building_height_input.lower()\n",
    "    \n",
    "        if building_height == \"y\":\n",
    "            building_height_less_than_four = 1\n",
    "        else:\n",
    "            building_height_less_than_four = 0\n",
    "    else:\n",
    "        print(\"The zoning information does not fit into the preferred category \")\n",
    "        building_height_less_than_four = 0\n",
    "else:\n",
    "    balcony_absent                 = 0\n",
    "    exterior_finish                = 0\n",
    "    building_age                   = 0\n",
    "    built_before_1990              = 0\n",
    "    building_height_less_than_four = 0\n",
    "    \n",
    "#create the input to feed into the model\n",
    "model_input = [isbuilding,building_age,built_before_1990,building_height_less_than_four,balcony_absent,exterior_finish]\n",
    "print(model_input)"
   ]
  },
  {
   "cell_type": "code",
   "execution_count": 3,
   "id": "ed75380e-66a3-444d-815e-87ff3cb9661a",
   "metadata": {},
   "outputs": [
    {
     "name": "stdout",
     "output_type": "stream",
     "text": [
      "Accuracy of Random Forest model on the train set: 1.00\n",
      "Accuracy of Random Forest model on the test set: 1.00\n"
     ]
    },
    {
     "data": {
      "text/plain": [
       "array([[12,  0,  0,  0,  0,  0],\n",
       "       [ 0, 67,  0,  0,  0,  0],\n",
       "       [ 0,  0, 93,  0,  0,  0],\n",
       "       [ 0,  0,  0, 48,  0,  0],\n",
       "       [ 0,  0,  0,  0,  8,  0],\n",
       "       [ 0,  0,  0,  0,  0, 22]], dtype=int64)"
      ]
     },
     "execution_count": 3,
     "metadata": {},
     "output_type": "execute_result"
    }
   ],
   "source": [
    "import pandas as pd\n",
    "import numpy as np\n",
    "import matplotlib.pyplot as plt\n",
    "#import seaborn as sns\n",
    "#import warnings\n",
    "#warnings.filterwarnings(\"ignore\")\n",
    "# import module\n",
    "from sklearn.model_selection import train_test_split\n",
    "# import Decision Tree model\n",
    "from sklearn.tree import DecisionTreeClassifier\n",
    "from sklearn.metrics import confusion_matrix\n",
    "\n",
    "# next load the data\n",
    "df = pd.read_csv('ModelFourTrainingDataset.csv')\n",
    "\n",
    "# drop all variables from the data that we won't need for the model.\n",
    "df = df.drop(['buildingID', 'latitude', 'longitude', 'postalCode', 'propertyAddress','ImageClassID'], axis = 1)\n",
    "\n",
    "# seperate input features in x\n",
    "x = df.drop('suitabilityForRetrofit', axis = 1)\n",
    "\n",
    "# store the target variable in y\n",
    "y = df['suitabilityForRetrofit']\n",
    "\n",
    "\n",
    "# Split the dataset\n",
    "xtrain, xtest, ytrain, ytest = train_test_split(x,y, test_size=0.20, random_state=11)\n",
    "\n",
    "# create an instane of the model\n",
    "dt = DecisionTreeClassifier(max_depth = 5, max_features=6)\n",
    "\n",
    "# train the model\n",
    "dtmodel = dt.fit(xtrain,ytrain)\n",
    "\n",
    "# Predict on x_test\n",
    "y_pred = dt.predict(xtest)\n",
    "\n",
    "# Evaluate the Model\n",
    "print('Accuracy of Random Forest model on the train set: {:.2f}'.format(dt.score(xtrain, ytrain)))\n",
    "print('Accuracy of Random Forest model on the test set: {:.2f}'.format(dt.score(xtest, ytest)))\n",
    "confusion_matrix(ytest, y_pred)\n",
    "\n"
   ]
  },
  {
   "cell_type": "code",
   "execution_count": 4,
   "id": "dca2b07c-c89b-452b-ad18-15653f1a08d6",
   "metadata": {},
   "outputs": [
    {
     "name": "stderr",
     "output_type": "stream",
     "text": [
      "C:\\Users\\sarah\\anaconda3\\lib\\site-packages\\sklearn\\base.py:450: UserWarning: X does not have valid feature names, but DecisionTreeClassifier was fitted with feature names\n",
      "  warnings.warn(\n"
     ]
    },
    {
     "data": {
      "text/plain": [
       "array(['B'], dtype=object)"
      ]
     },
     "execution_count": 4,
     "metadata": {},
     "output_type": "execute_result"
    }
   ],
   "source": [
    "#Save the model\n",
    "import pickle\n",
    "\n",
    "#load the model\n",
    "model4_manual = pickle.load(open('DECISIONTREE_MODEL_MANUAL','rb'))\n",
    "\n",
    "model4_manual.predict([model_input])"
   ]
  },
  {
   "cell_type": "code",
   "execution_count": 5,
   "id": "31724cc6-37c8-416a-8cf3-70e2e10e0f1a",
   "metadata": {},
   "outputs": [
    {
     "name": "stderr",
     "output_type": "stream",
     "text": [
      "C:\\Users\\sarah\\anaconda3\\lib\\site-packages\\sklearn\\base.py:450: UserWarning: X does not have valid feature names, but DecisionTreeClassifier was fitted with feature names\n",
      "  warnings.warn(\n"
     ]
    }
   ],
   "source": [
    "#Save the model\n",
    "import pickle\n",
    "\n",
    "#load the model\n",
    "model4_manual = pickle.load(open('DECISIONTREE_MODEL_MANUAL','rb'))\n",
    "\n",
    "result= model4_manual.predict([model_input])"
   ]
  },
  {
   "cell_type": "code",
   "execution_count": 6,
   "id": "d4055330-731a-41e5-b841-b42ae2778e5a",
   "metadata": {},
   "outputs": [
    {
     "name": "stdout",
     "output_type": "stream",
     "text": [
      "['B']\n"
     ]
    }
   ],
   "source": [
    "print(result)"
   ]
  },
  {
   "cell_type": "code",
   "execution_count": null,
   "id": "47915b01-b52d-4249-8457-58a33ddd3110",
   "metadata": {},
   "outputs": [],
   "source": []
  }
 ],
 "metadata": {
  "kernelspec": {
   "display_name": "Python 3 (ipykernel)",
   "language": "python",
   "name": "python3"
  },
  "language_info": {
   "codemirror_mode": {
    "name": "ipython",
    "version": 3
   },
   "file_extension": ".py",
   "mimetype": "text/x-python",
   "name": "python",
   "nbconvert_exporter": "python",
   "pygments_lexer": "ipython3",
   "version": "3.9.13"
  }
 },
 "nbformat": 4,
 "nbformat_minor": 5
}
